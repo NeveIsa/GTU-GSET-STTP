{
 "cells": [
  {
   "cell_type": "markdown",
   "id": "bc40dd78-8455-4684-8127-f8acefcc11e2",
   "metadata": {},
   "source": [
    "\n",
    "<u><h3 style=\"color:red\">GTU – Graduate School of Engineering and Technology</h3></u>\n",
    "    \n",
    "<b><h4 style=\"color:skyblue\">Short Term Training Program on\n",
    "Internet of Things Applications using Machine Learning and Deep Learning \n",
    "</h4></b>\n"
   ]
  },
  {
   "cell_type": "markdown",
   "id": "89fc58b7-c693-4360-8e1e-c77e0dbcec15",
   "metadata": {},
   "source": [
    "### Tutorial Talk\n",
    "\n",
    "<u><h4 style=\"color:lightseagreen\"> Hands on IoT Application using Machine Learning </h4> </u>\n",
    "\n",
    "**Objectives of the talk**\n",
    "- Motivate using a very practical IoT application \n",
    "- A general overview of machine learning\n",
    "- Four different classification models with geometric insights\n",
    "\n",
    "**Attendees are highly encouraged to**\n",
    "- Contribute to the discussion and talk\n",
    "- Interrupt and ask questions\n",
    "- Express their suggestions/comments/ideas without hesitation\n"
   ]
  },
  {
   "cell_type": "markdown",
   "id": "76790f45-ff4b-4ac5-bb05-8c8ce6279cb3",
   "metadata": {},
   "source": [
    "---\n",
    "#### Let's begin\n",
    "---\n",
    "&nbsp;\n",
    "\n",
    ">Anyone remember this?\n",
    "\n",
    "><img style=\"height:250px\" src=\"images/weighingmachine.png\">\n",
    "\n",
    "<br><br>\n",
    "\n",
    ">And what about this?\n",
    "\n",
    "><img style=\"height:300px\" src=\"images/vendingmachine.png\">\n",
    "\n",
    "> What is common/similarity in the two machines above?\n",
    "\n",
    "<br><br>\n"
   ]
  },
  {
   "cell_type": "markdown",
   "id": "eec1110d-be83-42ba-be5c-7c28621735eb",
   "metadata": {},
   "source": [
    "\n",
    "#### Motivation \n",
    "---\n",
    "> You are working for a company called which manufactures vending machines. The vending machines need to detect the denomination of the Indian coins that are inserted.\n",
    "\n",
    "><i style=\"color:cyan\">How do we infer the denomination of a coin that is inserted by the user ?</i>\n",
    "\n",
    "&nbsp;\n",
    "\n",
    "---"
   ]
  },
  {
   "cell_type": "markdown",
   "id": "8a3b8796-884e-4767-afba-6ede7c431425",
   "metadata": {},
   "source": [
    "#### Some specifications of Indian coins from the reserve bank of India\n",
    "\n",
    "![](images/1vs2.png)\n",
    "![](images/2vs5.png)"
   ]
  },
  {
   "cell_type": "markdown",
   "id": "39ceebfb-98b7-4492-847c-01c4165434a6",
   "metadata": {},
   "source": [
    "### Discussion\n",
    "---\n",
    "> What features/properties can be used to detect and classify the coins?\n",
    "\n",
    "> What sensors can be used to measure these properties ?\n",
    "\n",
    "> What if we want to make the machine as cheap as possible if we do not care too much about fake coins/metals.\n",
    "---"
   ]
  },
  {
   "cell_type": "markdown",
   "id": "35ec688f-8280-44ea-adf1-c76713dce3e7",
   "metadata": {},
   "source": [
    "---\n",
    "---\n",
    "---\n",
    "\n",
    "\n",
    "### One possible economic solution \n",
    "- Measure the weight of the coin\n",
    "- Measure the area of the coin\n",
    "\n",
    "![](images/weightsensor.png)\n",
    "![](images/rpicamera.png)\n",
    "![](images/coinshadow.png)\n",
    "\n"
   ]
  },
  {
   "cell_type": "markdown",
   "id": "abd857b1-315c-46b8-a454-b7c5841d965e",
   "metadata": {},
   "source": [
    "#### Import the libraries"
   ]
  },
  {
   "cell_type": "code",
   "execution_count": 45,
   "id": "6d0823f4-8283-4fa8-b9b4-35c73a3d6acf",
   "metadata": {
    "jupyter": {
     "source_hidden": true
    },
    "tags": []
   },
   "outputs": [],
   "source": [
    "# Import the pandas library to read the CSV file\n",
    "import pandas as pd\n",
    "\n",
    "\n",
    "# Import the plotting library, set the plot size and theme\n",
    "import seaborn as sns\n",
    "sns.set_theme()\n",
    "import matplotlib.pyplot as plt\n",
    "plt.rcParams[\"figure.figsize\"] = (15,10)"
   ]
  },
  {
   "cell_type": "markdown",
   "id": "7f3c0859-dbcd-4ec2-9172-d71fcddee919",
   "metadata": {},
   "source": [
    "#### Load and show the data table"
   ]
  },
  {
   "cell_type": "code",
   "execution_count": 49,
   "id": "e70b741d-2a35-4a66-9c4d-0dab5183e1a7",
   "metadata": {
    "tags": []
   },
   "outputs": [
    {
     "data": {
      "text/html": [
       "<div>\n",
       "<style scoped>\n",
       "    .dataframe tbody tr th:only-of-type {\n",
       "        vertical-align: middle;\n",
       "    }\n",
       "\n",
       "    .dataframe tbody tr th {\n",
       "        vertical-align: top;\n",
       "    }\n",
       "\n",
       "    .dataframe thead th {\n",
       "        text-align: right;\n",
       "    }\n",
       "</style>\n",
       "<table border=\"1\" class=\"dataframe\">\n",
       "  <thead>\n",
       "    <tr style=\"text-align: right;\">\n",
       "      <th></th>\n",
       "      <th>reflectance</th>\n",
       "      <th>weight</th>\n",
       "      <th>denomination</th>\n",
       "    </tr>\n",
       "  </thead>\n",
       "  <tbody>\n",
       "    <tr>\n",
       "      <th>49</th>\n",
       "      <td>23.323342</td>\n",
       "      <td>5.072579</td>\n",
       "      <td>1</td>\n",
       "    </tr>\n",
       "    <tr>\n",
       "      <th>159</th>\n",
       "      <td>28.699642</td>\n",
       "      <td>5.490850</td>\n",
       "      <td>2</td>\n",
       "    </tr>\n",
       "    <tr>\n",
       "      <th>130</th>\n",
       "      <td>28.369685</td>\n",
       "      <td>5.715371</td>\n",
       "      <td>2</td>\n",
       "    </tr>\n",
       "    <tr>\n",
       "      <th>137</th>\n",
       "      <td>28.401349</td>\n",
       "      <td>5.655490</td>\n",
       "      <td>2</td>\n",
       "    </tr>\n",
       "    <tr>\n",
       "      <th>170</th>\n",
       "      <td>27.800820</td>\n",
       "      <td>5.595559</td>\n",
       "      <td>2</td>\n",
       "    </tr>\n",
       "    <tr>\n",
       "      <th>40</th>\n",
       "      <td>26.481644</td>\n",
       "      <td>6.983170</td>\n",
       "      <td>1</td>\n",
       "    </tr>\n",
       "    <tr>\n",
       "      <th>110</th>\n",
       "      <td>27.900483</td>\n",
       "      <td>5.324321</td>\n",
       "      <td>2</td>\n",
       "    </tr>\n",
       "  </tbody>\n",
       "</table>\n",
       "</div>"
      ],
      "text/plain": [
       "     reflectance    weight  denomination\n",
       "49     23.323342  5.072579             1\n",
       "159    28.699642  5.490850             2\n",
       "130    28.369685  5.715371             2\n",
       "137    28.401349  5.655490             2\n",
       "170    27.800820  5.595559             2\n",
       "40     26.481644  6.983170             1\n",
       "110    27.900483  5.324321             2"
      ]
     },
     "execution_count": 49,
     "metadata": {},
     "output_type": "execute_result"
    }
   ],
   "source": [
    "# load the coin dataset from the CSV file\n",
    "data = pd.read_csv(\"../dataset/coins.csv\")\n",
    "\n",
    "# display 7 random samples of the data\n",
    "data.sample(7)"
   ]
  },
  {
   "cell_type": "markdown",
   "id": "118d3abe-d605-458f-bb55-7b9227c779dd",
   "metadata": {},
   "source": [
    "#### Plot the data"
   ]
  },
  {
   "cell_type": "code",
   "execution_count": 47,
   "id": "0b148547-dca1-4c6f-b71e-e4cd4a2014f5",
   "metadata": {
    "jupyter": {
     "source_hidden": true
    },
    "tags": []
   },
   "outputs": [
    {
     "data": {
      "text/plain": [
       "<AxesSubplot:xlabel='reflectance', ylabel='weight'>"
      ]
     },
     "execution_count": 47,
     "metadata": {},
     "output_type": "execute_result"
    },
    {
     "data": {
      "image/png": "[encoded data removed]",
      "text/plain": [
       "<Figure size 1080x720 with 1 Axes>"
      ]
     },
     "metadata": {},
     "output_type": "display_data"
    }
   ],
   "source": [
    "# Plot the one and two rupee coins with colors to show the clusters\n",
    "sns.scatterplot(data=data, x=\"reflectance\", y=\"weight\", hue=\"denomination\", palette=\"dark\")"
   ]
  }
 ],
 "metadata": {
  "kernelspec": {
   "display_name": "Python 3 (ipykernel)",
   "language": "python",
   "name": "python3"
  },
  "language_info": {
   "codemirror_mode": {
    "name": "ipython",
    "version": 3
   },
   "file_extension": ".py",
   "mimetype": "text/x-python",
   "name": "python",
   "nbconvert_exporter": "python",
   "pygments_lexer": "ipython3",
   "version": "3.9.9"
  }
 },
 "nbformat": 4,
 "nbformat_minor": 5
}
