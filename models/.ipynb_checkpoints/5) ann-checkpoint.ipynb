{
 "cells": [
  {
   "cell_type": "code",
   "execution_count": null,
   "id": "a1824b51-1867-47d6-b8db-9d40c956d95f",
   "metadata": {},
   "outputs": [],
   "source": [
    "# import load function\n",
    "from tools.loaddataset import load\n",
    "\n",
    "# import decision boundary plotting tool\n",
    "from tools.dboundary import plotdb\n",
    "\n",
    "# import the plotting library, set the plot size and theme\n",
    "import seaborn as sns\n",
    "sns.set_theme()\n",
    "import matplotlib.pyplot as plt\n",
    "plt.rcParams[\"figure.figsize\"] = (15,10)\n",
    "\n",
    "\n",
    "# import the number library\n",
    "import numpy as np\n",
    "\n",
    "# import tool to plot decision boundary\n",
    "from tools.dboundary import plotdb\n",
    "\n",
    "# import the dataframe library\n",
    "import pandas as pd"
   ]
  },
  {
   "cell_type": "code",
   "execution_count": null,
   "id": "623f5da2-b502-4ff2-a454-0e2a7e27e986",
   "metadata": {},
   "outputs": [],
   "source": [
    "# load and plot original data\n",
    "data = pd.read_csv(\"../dataset/coins.csv\")"
   ]
  },
  {
   "cell_type": "code",
   "execution_count": null,
   "id": "de3259ce-0c36-4b5a-a011-7837f1da7267",
   "metadata": {},
   "outputs": [],
   "source": [
    "# load test and train\n",
    "X_train, X_test, y_train, y_test = load(csvpath=\"../dataset/coins.csv\")"
   ]
  },
  {
   "cell_type": "code",
   "execution_count": null,
   "id": "7a0ee040-d13f-40d5-b4c2-285f5b2b90d3",
   "metadata": {},
   "outputs": [],
   "source": [
    "# import pytorch\n",
    "import torch\n",
    "from torch import nn"
   ]
  },
  {
   "cell_type": "code",
   "execution_count": null,
   "id": "0f8f49d2-ad84-4504-bdda-b0e2b96c470c",
   "metadata": {},
   "outputs": [],
   "source": [
    "#del(model)\n",
    "model = nn.Sequential(\n",
    "    nn.Linear(2, 1),\n",
    "    #nn.Linear(1,1),\n",
    "    nn.Sigmoid()\n",
    ")\n",
    "model"
   ]
  },
  {
   "cell_type": "code",
   "execution_count": null,
   "id": "b89ff001-f6b4-499f-ab6d-d5b11e387f9c",
   "metadata": {},
   "outputs": [],
   "source": [
    "#loss_fn = torch.nn.BCELoss()\n",
    "loss_fn = torch.nn.MSELoss()\n",
    "\n",
    "batch_size = 20\n",
    "\n",
    "optimizer = torch.optim.RMSprop(model.parameters(), lr=1e-3)\n",
    "\n",
    "# set within 0 to 1\n",
    "y_train_mod = y_train - 1\n",
    "\n",
    "for epoch in range(15000):\n",
    "    random_indices = np.random.choice(len(X_train),batch_size)\n",
    "    \n",
    "    randomX = X_train.to_numpy()[random_indices]\n",
    "    randomY = y_train_mod.to_numpy()[random_indices]\n",
    "    \n",
    "    randomX = torch.tensor(randomX,dtype=torch.float)\n",
    "    randomY = torch.tensor(randomY,dtype=torch.float)\n",
    "    \n",
    "    # forward pass\n",
    "    yhat = model(randomX)\n",
    "    \n",
    "    # calculate loss\n",
    "    # print(randomY.shape, yhat.flatten().shape)\n",
    "    loss = loss_fn(randomY, yhat.flatten())\n",
    "    \n",
    "    # print info\n",
    "    if not epoch%500:\n",
    "        print(\"epoch:\",epoch, \"=> loss\", loss)\n",
    "    \n",
    "    # backpropagate\n",
    "    optimizer.zero_grad()\n",
    "    loss.backward()\n",
    "    optimizer.step()"
   ]
  },
  {
   "cell_type": "code",
   "execution_count": null,
   "id": "8c2d6e73-1de1-45bf-aada-d89a4b659ba2",
   "metadata": {},
   "outputs": [],
   "source": [
    "def predict(x,y):\n",
    "    ip = torch.tensor([x,y],dtype=torch.float)\n",
    "    op = model(ip)\n",
    "    # print(op)\n",
    "    return op.detach().numpy()[0] > 0.5\n",
    "    \n",
    "plotdb(predict=predict, originaldata=data)\n",
    "#for idx in range(len(X_test)):\n",
    "#    print(predict(X_test.iloc[idx].to_numpy()[0],X_test.iloc[idx].to_numpy()[1]), y_test.iloc[idx])"
   ]
  },
  {
   "cell_type": "code",
   "execution_count": null,
   "id": "b7554825-a2a8-4c87-9aad-ebb314c4135f",
   "metadata": {},
   "outputs": [],
   "source": []
  }
 ],
 "metadata": {
  "kernelspec": {
   "display_name": "Python 3 (ipykernel)",
   "language": "python",
   "name": "python3"
  },
  "language_info": {
   "codemirror_mode": {
    "name": "ipython",
    "version": 3
   },
   "file_extension": ".py",
   "mimetype": "text/x-python",
   "name": "python",
   "nbconvert_exporter": "python",
   "pygments_lexer": "ipython3",
   "version": "3.9.9"
  }
 },
 "nbformat": 4,
 "nbformat_minor": 5
}
